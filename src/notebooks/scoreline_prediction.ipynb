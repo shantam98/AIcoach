{
 "cells": [
  {
   "cell_type": "markdown",
   "id": "a4b50a96",
   "metadata": {},
   "source": [
    "In this notebook we calculate \n",
    "1. average player statistics over entire league matches \n",
    "2. variable player performance for each match\n",
    "3. Encode player positions into player performance\n",
    "4. Encode team formation to predict scoreline"
   ]
  },
  {
   "cell_type": "markdown",
   "id": "60380226",
   "metadata": {},
   "source": []
  }
 ],
 "metadata": {
  "kernelspec": {
   "display_name": "3.12 torch",
   "language": "python",
   "name": "mltorch"
  },
  "language_info": {
   "name": "python",
   "version": "3.12.3"
  }
 },
 "nbformat": 4,
 "nbformat_minor": 5
}
